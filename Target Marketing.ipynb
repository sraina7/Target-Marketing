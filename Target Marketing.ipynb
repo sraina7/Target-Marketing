{
 "cells": [
  {
   "cell_type": "markdown",
   "id": "b5eb0518",
   "metadata": {},
   "source": [
    "# TARGET MARKETING FOR PORTUGUESE BANK"
   ]
  },
  {
   "cell_type": "markdown",
   "id": "c9923dc8",
   "metadata": {},
   "source": [
    "*Problem: Has the client subscribed to a term deposit?*"
   ]
  },
  {
   "cell_type": "markdown",
   "id": "64823e72",
   "metadata": {},
   "source": [
    "***IMPORT LIBRARIES***"
   ]
  },
  {
   "cell_type": "code",
   "execution_count": 1,
   "id": "64ab8739",
   "metadata": {},
   "outputs": [],
   "source": [
    "import pandas as pd\n",
    "from sklearn.preprocessing import label_binarize\n",
    "import numpy as np\n",
    "from sklearn.model_selection import train_test_split\n",
    "from sklearn.ensemble import RandomForestClassifier\n",
    "from sklearn.tree import DecisionTreeClassifier\n",
    "from sklearn.model_selection import GridSearchCV\n",
    "from sklearn.model_selection import RandomizedSearchCV\n",
    "from sklearn.model_selection import cross_val_score\n",
    "from sklearn.metrics import classification_report, confusion_matrix\n",
    "from sklearn.ensemble import GradientBoostingClassifier\n",
    "from sklearn.preprocessing import OneHotEncoder\n",
    "from sklearn import metrics #Import scikit-learn metrics module for accuracy calculation\n",
    "\n",
    "import warnings\n",
    "warnings.filterwarnings(\"ignore\")\n",
    "#Please ignore the warnings with version change\n"
   ]
  },
  {
   "cell_type": "markdown",
   "id": "c6551d32",
   "metadata": {},
   "source": [
    "***IMPORT TRAIN AND TEST DATASET***"
   ]
  },
  {
   "cell_type": "code",
   "execution_count": 2,
   "id": "d4151494",
   "metadata": {},
   "outputs": [
    {
     "name": "stdout",
     "output_type": "stream",
     "text": [
      "(4521, 17)\n",
      "(45211, 17)\n"
     ]
    }
   ],
   "source": [
    "trainfile = r'C:\\Users\\Shehjar Raina\\Desktop\\CIS 508 Data Mining\\IA2\\BankTrain.csv'\n",
    "trainData = pd.read_csv(trainfile) #creates a dataframe\n",
    "testfile = r'C:\\Users\\Shehjar Raina\\Desktop\\CIS 508 Data Mining\\IA2\\BankTest.csv'\n",
    "testData = pd.read_csv(testfile)\n",
    "\n",
    "print(trainData.shape)\n",
    "print(testData.shape)"
   ]
  },
  {
   "cell_type": "markdown",
   "id": "36e2ac48",
   "metadata": {},
   "source": [
    "***READ TRAIN DATA***"
   ]
  },
  {
   "cell_type": "code",
   "execution_count": 3,
   "id": "2ff3901c",
   "metadata": {},
   "outputs": [
    {
     "name": "stdout",
     "output_type": "stream",
     "text": [
      "<class 'pandas.core.frame.DataFrame'>\n",
      "RangeIndex: 4521 entries, 0 to 4520\n",
      "Data columns (total 17 columns):\n",
      " #   Column     Non-Null Count  Dtype \n",
      "---  ------     --------------  ----- \n",
      " 0   age        4521 non-null   int64 \n",
      " 1   job        4521 non-null   object\n",
      " 2   marital    4521 non-null   object\n",
      " 3   education  4521 non-null   object\n",
      " 4   default    4521 non-null   object\n",
      " 5   balance    4521 non-null   int64 \n",
      " 6   housing    4521 non-null   object\n",
      " 7   loan       4521 non-null   object\n",
      " 8   contact    4521 non-null   object\n",
      " 9   day        4521 non-null   int64 \n",
      " 10  month      4521 non-null   object\n",
      " 11  duration   4521 non-null   int64 \n",
      " 12  campaign   4521 non-null   int64 \n",
      " 13  pdays      4521 non-null   int64 \n",
      " 14  previous   4521 non-null   int64 \n",
      " 15  poutcome   4521 non-null   object\n",
      " 16  y          4521 non-null   object\n",
      "dtypes: int64(7), object(10)\n",
      "memory usage: 600.6+ KB\n"
     ]
    }
   ],
   "source": [
    "trainData.info()"
   ]
  },
  {
   "cell_type": "markdown",
   "id": "18f08515",
   "metadata": {},
   "source": [
    "***READ TEST DATA***"
   ]
  },
  {
   "cell_type": "code",
   "execution_count": 4,
   "id": "f01a425c",
   "metadata": {},
   "outputs": [
    {
     "name": "stdout",
     "output_type": "stream",
     "text": [
      "<class 'pandas.core.frame.DataFrame'>\n",
      "RangeIndex: 45211 entries, 0 to 45210\n",
      "Data columns (total 17 columns):\n",
      " #   Column     Non-Null Count  Dtype \n",
      "---  ------     --------------  ----- \n",
      " 0   age        45211 non-null  int64 \n",
      " 1   job        45211 non-null  object\n",
      " 2   marital    45211 non-null  object\n",
      " 3   education  45211 non-null  object\n",
      " 4   default    45211 non-null  object\n",
      " 5   balance    45211 non-null  int64 \n",
      " 6   housing    45211 non-null  object\n",
      " 7   loan       45211 non-null  object\n",
      " 8   contact    45211 non-null  object\n",
      " 9   day        45211 non-null  int64 \n",
      " 10  month      45211 non-null  object\n",
      " 11  duration   45211 non-null  int64 \n",
      " 12  campaign   45211 non-null  int64 \n",
      " 13  pdays      45211 non-null  int64 \n",
      " 14  previous   45211 non-null  int64 \n",
      " 15  poutcome   45211 non-null  object\n",
      " 16  y          45211 non-null  object\n",
      "dtypes: int64(7), object(10)\n",
      "memory usage: 5.9+ MB\n"
     ]
    }
   ],
   "source": [
    "testData.info()"
   ]
  },
  {
   "cell_type": "markdown",
   "id": "58623670",
   "metadata": {},
   "source": [
    "***CHECK FOR MISSING VALUES***"
   ]
  },
  {
   "cell_type": "code",
   "execution_count": 5,
   "id": "8fcc0af8",
   "metadata": {},
   "outputs": [
    {
     "data": {
      "text/plain": [
       "age          0\n",
       "day          0\n",
       "poutcome     0\n",
       "previous     0\n",
       "pdays        0\n",
       "campaign     0\n",
       "duration     0\n",
       "month        0\n",
       "contact      0\n",
       "job          0\n",
       "loan         0\n",
       "housing      0\n",
       "balance      0\n",
       "default      0\n",
       "education    0\n",
       "marital      0\n",
       "y            0\n",
       "dtype: int64"
      ]
     },
     "execution_count": 5,
     "metadata": {},
     "output_type": "execute_result"
    }
   ],
   "source": [
    "trainData.isnull().sum().sort_values(ascending=False)"
   ]
  },
  {
   "cell_type": "markdown",
   "id": "90d93a52",
   "metadata": {},
   "source": [
    "***DESCRIBE***"
   ]
  },
  {
   "cell_type": "code",
   "execution_count": 6,
   "id": "2d87cbc1",
   "metadata": {},
   "outputs": [
    {
     "data": {
      "text/html": [
       "<div>\n",
       "<style scoped>\n",
       "    .dataframe tbody tr th:only-of-type {\n",
       "        vertical-align: middle;\n",
       "    }\n",
       "\n",
       "    .dataframe tbody tr th {\n",
       "        vertical-align: top;\n",
       "    }\n",
       "\n",
       "    .dataframe thead th {\n",
       "        text-align: right;\n",
       "    }\n",
       "</style>\n",
       "<table border=\"1\" class=\"dataframe\">\n",
       "  <thead>\n",
       "    <tr style=\"text-align: right;\">\n",
       "      <th></th>\n",
       "      <th>age</th>\n",
       "      <th>balance</th>\n",
       "      <th>day</th>\n",
       "      <th>duration</th>\n",
       "      <th>campaign</th>\n",
       "      <th>pdays</th>\n",
       "      <th>previous</th>\n",
       "    </tr>\n",
       "  </thead>\n",
       "  <tbody>\n",
       "    <tr>\n",
       "      <th>count</th>\n",
       "      <td>4521.000000</td>\n",
       "      <td>4521.000000</td>\n",
       "      <td>4521.000000</td>\n",
       "      <td>4521.000000</td>\n",
       "      <td>4521.000000</td>\n",
       "      <td>4521.000000</td>\n",
       "      <td>4521.000000</td>\n",
       "    </tr>\n",
       "    <tr>\n",
       "      <th>mean</th>\n",
       "      <td>41.170095</td>\n",
       "      <td>1422.657819</td>\n",
       "      <td>15.915284</td>\n",
       "      <td>263.961292</td>\n",
       "      <td>2.793630</td>\n",
       "      <td>39.766645</td>\n",
       "      <td>0.542579</td>\n",
       "    </tr>\n",
       "    <tr>\n",
       "      <th>std</th>\n",
       "      <td>10.576211</td>\n",
       "      <td>3009.638142</td>\n",
       "      <td>8.247667</td>\n",
       "      <td>259.856633</td>\n",
       "      <td>3.109807</td>\n",
       "      <td>100.121124</td>\n",
       "      <td>1.693562</td>\n",
       "    </tr>\n",
       "    <tr>\n",
       "      <th>min</th>\n",
       "      <td>19.000000</td>\n",
       "      <td>-3313.000000</td>\n",
       "      <td>1.000000</td>\n",
       "      <td>4.000000</td>\n",
       "      <td>1.000000</td>\n",
       "      <td>-1.000000</td>\n",
       "      <td>0.000000</td>\n",
       "    </tr>\n",
       "    <tr>\n",
       "      <th>25%</th>\n",
       "      <td>33.000000</td>\n",
       "      <td>69.000000</td>\n",
       "      <td>9.000000</td>\n",
       "      <td>104.000000</td>\n",
       "      <td>1.000000</td>\n",
       "      <td>-1.000000</td>\n",
       "      <td>0.000000</td>\n",
       "    </tr>\n",
       "    <tr>\n",
       "      <th>50%</th>\n",
       "      <td>39.000000</td>\n",
       "      <td>444.000000</td>\n",
       "      <td>16.000000</td>\n",
       "      <td>185.000000</td>\n",
       "      <td>2.000000</td>\n",
       "      <td>-1.000000</td>\n",
       "      <td>0.000000</td>\n",
       "    </tr>\n",
       "    <tr>\n",
       "      <th>75%</th>\n",
       "      <td>49.000000</td>\n",
       "      <td>1480.000000</td>\n",
       "      <td>21.000000</td>\n",
       "      <td>329.000000</td>\n",
       "      <td>3.000000</td>\n",
       "      <td>-1.000000</td>\n",
       "      <td>0.000000</td>\n",
       "    </tr>\n",
       "    <tr>\n",
       "      <th>max</th>\n",
       "      <td>87.000000</td>\n",
       "      <td>71188.000000</td>\n",
       "      <td>31.000000</td>\n",
       "      <td>3025.000000</td>\n",
       "      <td>50.000000</td>\n",
       "      <td>871.000000</td>\n",
       "      <td>25.000000</td>\n",
       "    </tr>\n",
       "  </tbody>\n",
       "</table>\n",
       "</div>"
      ],
      "text/plain": [
       "               age       balance          day     duration     campaign  \\\n",
       "count  4521.000000   4521.000000  4521.000000  4521.000000  4521.000000   \n",
       "mean     41.170095   1422.657819    15.915284   263.961292     2.793630   \n",
       "std      10.576211   3009.638142     8.247667   259.856633     3.109807   \n",
       "min      19.000000  -3313.000000     1.000000     4.000000     1.000000   \n",
       "25%      33.000000     69.000000     9.000000   104.000000     1.000000   \n",
       "50%      39.000000    444.000000    16.000000   185.000000     2.000000   \n",
       "75%      49.000000   1480.000000    21.000000   329.000000     3.000000   \n",
       "max      87.000000  71188.000000    31.000000  3025.000000    50.000000   \n",
       "\n",
       "             pdays     previous  \n",
       "count  4521.000000  4521.000000  \n",
       "mean     39.766645     0.542579  \n",
       "std     100.121124     1.693562  \n",
       "min      -1.000000     0.000000  \n",
       "25%      -1.000000     0.000000  \n",
       "50%      -1.000000     0.000000  \n",
       "75%      -1.000000     0.000000  \n",
       "max     871.000000    25.000000  "
      ]
     },
     "execution_count": 6,
     "metadata": {},
     "output_type": "execute_result"
    }
   ],
   "source": [
    "trainData.describe()"
   ]
  },
  {
   "cell_type": "code",
   "execution_count": 7,
   "id": "f224f097",
   "metadata": {},
   "outputs": [
    {
     "name": "stdout",
     "output_type": "stream",
     "text": [
      "Train Data Columns\n",
      "['age', 'job', 'marital', 'education', 'default', 'balance', 'housing', 'loan', 'contact', 'day', 'month', 'duration', 'campaign', 'pdays', 'previous', 'poutcome', 'y']\n",
      "\n",
      "Test Data Columns\n",
      "['age', 'job', 'marital', 'education', 'default', 'balance', 'housing', 'loan', 'contact', 'day', 'month', 'duration', 'campaign', 'pdays', 'previous', 'poutcome', 'y']\n"
     ]
    }
   ],
   "source": [
    "TrainCols = list(trainData.columns.values)\n",
    "TestCols = list(testData.columns.values)\n",
    "print(\"Train Data Columns\")\n",
    "print(TrainCols)\n",
    "print()\n",
    "print(\"Test Data Columns\")\n",
    "print(TestCols)"
   ]
  },
  {
   "cell_type": "markdown",
   "id": "65baab40",
   "metadata": {},
   "source": [
    "***SEPARATE TARGET COLUMN FROM TRAIN DATASET***"
   ]
  },
  {
   "cell_type": "code",
   "execution_count": 8,
   "id": "f8d192b5",
   "metadata": {},
   "outputs": [
    {
     "name": "stdout",
     "output_type": "stream",
     "text": [
      "Train Set shape:\n",
      "(4521, 16)\n",
      "(4521, 1)\n",
      "Test Set shape:\n",
      "(45211, 16)\n",
      "(45211, 1)\n"
     ]
    }
   ],
   "source": [
    "# Seperate Target column from Train Data\n",
    "Xtrain = trainData[TrainCols[0:len(TrainCols)-1]].copy()\n",
    "Ytrain = trainData[['y']].copy()\n",
    "print(\"Train Set shape:\")\n",
    "print(Xtrain.shape)\n",
    "print(Ytrain.shape)\n",
    "Xtest = testData[TestCols[0:len(TestCols)-1]].copy()\n",
    "Ytest = testData[['y']].copy()\n",
    "print(\"Test Set shape:\")\n",
    "print(Xtest.shape)\n",
    "print(Ytest.shape)"
   ]
  },
  {
   "cell_type": "markdown",
   "id": "c4dff76d",
   "metadata": {},
   "source": [
    "***LIST ALL CATEGORICAL FEATURES***"
   ]
  },
  {
   "cell_type": "code",
   "execution_count": 9,
   "id": "f16e2bcf",
   "metadata": {},
   "outputs": [],
   "source": [
    "#List of Categorical Features\n",
    "categoricalFeatures = ['job', 'marital', 'education', 'default', 'housing', 'loan', 'contact', 'month', 'poutcome']"
   ]
  },
  {
   "cell_type": "markdown",
   "id": "5cb9a565",
   "metadata": {},
   "source": [
    "***ONE HOT ENCODING ON TRAIN DATASET***"
   ]
  },
  {
   "cell_type": "code",
   "execution_count": 10,
   "id": "1be39b5a",
   "metadata": {},
   "outputs": [
    {
     "data": {
      "text/html": [
       "<div>\n",
       "<style scoped>\n",
       "    .dataframe tbody tr th:only-of-type {\n",
       "        vertical-align: middle;\n",
       "    }\n",
       "\n",
       "    .dataframe tbody tr th {\n",
       "        vertical-align: top;\n",
       "    }\n",
       "\n",
       "    .dataframe thead th {\n",
       "        text-align: right;\n",
       "    }\n",
       "</style>\n",
       "<table border=\"1\" class=\"dataframe\">\n",
       "  <thead>\n",
       "    <tr style=\"text-align: right;\">\n",
       "      <th></th>\n",
       "      <th>age</th>\n",
       "      <th>balance</th>\n",
       "      <th>day</th>\n",
       "      <th>duration</th>\n",
       "      <th>campaign</th>\n",
       "      <th>pdays</th>\n",
       "      <th>previous</th>\n",
       "      <th>x0_admin.</th>\n",
       "      <th>x0_blue-collar</th>\n",
       "      <th>x0_entrepreneur</th>\n",
       "      <th>...</th>\n",
       "      <th>x7_jun</th>\n",
       "      <th>x7_mar</th>\n",
       "      <th>x7_may</th>\n",
       "      <th>x7_nov</th>\n",
       "      <th>x7_oct</th>\n",
       "      <th>x7_sep</th>\n",
       "      <th>x8_failure</th>\n",
       "      <th>x8_other</th>\n",
       "      <th>x8_success</th>\n",
       "      <th>x8_unknown</th>\n",
       "    </tr>\n",
       "  </thead>\n",
       "  <tbody>\n",
       "    <tr>\n",
       "      <th>3138</th>\n",
       "      <td>36</td>\n",
       "      <td>23</td>\n",
       "      <td>26</td>\n",
       "      <td>133</td>\n",
       "      <td>11</td>\n",
       "      <td>-1</td>\n",
       "      <td>0</td>\n",
       "      <td>0.0</td>\n",
       "      <td>0.0</td>\n",
       "      <td>0.0</td>\n",
       "      <td>...</td>\n",
       "      <td>0.0</td>\n",
       "      <td>0.0</td>\n",
       "      <td>0.0</td>\n",
       "      <td>0.0</td>\n",
       "      <td>0.0</td>\n",
       "      <td>0.0</td>\n",
       "      <td>0.0</td>\n",
       "      <td>0.0</td>\n",
       "      <td>0.0</td>\n",
       "      <td>1.0</td>\n",
       "    </tr>\n",
       "    <tr>\n",
       "      <th>1933</th>\n",
       "      <td>49</td>\n",
       "      <td>474</td>\n",
       "      <td>9</td>\n",
       "      <td>152</td>\n",
       "      <td>3</td>\n",
       "      <td>221</td>\n",
       "      <td>1</td>\n",
       "      <td>0.0</td>\n",
       "      <td>1.0</td>\n",
       "      <td>0.0</td>\n",
       "      <td>...</td>\n",
       "      <td>0.0</td>\n",
       "      <td>0.0</td>\n",
       "      <td>0.0</td>\n",
       "      <td>0.0</td>\n",
       "      <td>0.0</td>\n",
       "      <td>0.0</td>\n",
       "      <td>1.0</td>\n",
       "      <td>0.0</td>\n",
       "      <td>0.0</td>\n",
       "      <td>0.0</td>\n",
       "    </tr>\n",
       "    <tr>\n",
       "      <th>3048</th>\n",
       "      <td>35</td>\n",
       "      <td>414</td>\n",
       "      <td>20</td>\n",
       "      <td>11</td>\n",
       "      <td>5</td>\n",
       "      <td>319</td>\n",
       "      <td>2</td>\n",
       "      <td>0.0</td>\n",
       "      <td>0.0</td>\n",
       "      <td>0.0</td>\n",
       "      <td>...</td>\n",
       "      <td>0.0</td>\n",
       "      <td>0.0</td>\n",
       "      <td>0.0</td>\n",
       "      <td>0.0</td>\n",
       "      <td>0.0</td>\n",
       "      <td>0.0</td>\n",
       "      <td>0.0</td>\n",
       "      <td>1.0</td>\n",
       "      <td>0.0</td>\n",
       "      <td>0.0</td>\n",
       "    </tr>\n",
       "    <tr>\n",
       "      <th>237</th>\n",
       "      <td>57</td>\n",
       "      <td>206</td>\n",
       "      <td>5</td>\n",
       "      <td>216</td>\n",
       "      <td>3</td>\n",
       "      <td>-1</td>\n",
       "      <td>0</td>\n",
       "      <td>0.0</td>\n",
       "      <td>0.0</td>\n",
       "      <td>0.0</td>\n",
       "      <td>...</td>\n",
       "      <td>0.0</td>\n",
       "      <td>0.0</td>\n",
       "      <td>1.0</td>\n",
       "      <td>0.0</td>\n",
       "      <td>0.0</td>\n",
       "      <td>0.0</td>\n",
       "      <td>0.0</td>\n",
       "      <td>0.0</td>\n",
       "      <td>0.0</td>\n",
       "      <td>1.0</td>\n",
       "    </tr>\n",
       "    <tr>\n",
       "      <th>2562</th>\n",
       "      <td>46</td>\n",
       "      <td>7378</td>\n",
       "      <td>18</td>\n",
       "      <td>466</td>\n",
       "      <td>1</td>\n",
       "      <td>-1</td>\n",
       "      <td>0</td>\n",
       "      <td>1.0</td>\n",
       "      <td>0.0</td>\n",
       "      <td>0.0</td>\n",
       "      <td>...</td>\n",
       "      <td>0.0</td>\n",
       "      <td>0.0</td>\n",
       "      <td>0.0</td>\n",
       "      <td>1.0</td>\n",
       "      <td>0.0</td>\n",
       "      <td>0.0</td>\n",
       "      <td>0.0</td>\n",
       "      <td>0.0</td>\n",
       "      <td>0.0</td>\n",
       "      <td>1.0</td>\n",
       "    </tr>\n",
       "  </tbody>\n",
       "</table>\n",
       "<p>5 rows × 51 columns</p>\n",
       "</div>"
      ],
      "text/plain": [
       "      age  balance  day  duration  campaign  pdays  previous  x0_admin.  \\\n",
       "3138   36       23   26       133        11     -1         0        0.0   \n",
       "1933   49      474    9       152         3    221         1        0.0   \n",
       "3048   35      414   20        11         5    319         2        0.0   \n",
       "237    57      206    5       216         3     -1         0        0.0   \n",
       "2562   46     7378   18       466         1     -1         0        1.0   \n",
       "\n",
       "      x0_blue-collar  x0_entrepreneur  ...  x7_jun  x7_mar  x7_may  x7_nov  \\\n",
       "3138             0.0              0.0  ...     0.0     0.0     0.0     0.0   \n",
       "1933             1.0              0.0  ...     0.0     0.0     0.0     0.0   \n",
       "3048             0.0              0.0  ...     0.0     0.0     0.0     0.0   \n",
       "237              0.0              0.0  ...     0.0     0.0     1.0     0.0   \n",
       "2562             0.0              0.0  ...     0.0     0.0     0.0     1.0   \n",
       "\n",
       "      x7_oct  x7_sep  x8_failure  x8_other  x8_success  x8_unknown  \n",
       "3138     0.0     0.0         0.0       0.0         0.0         1.0  \n",
       "1933     0.0     0.0         1.0       0.0         0.0         0.0  \n",
       "3048     0.0     0.0         0.0       1.0         0.0         0.0  \n",
       "237      0.0     0.0         0.0       0.0         0.0         1.0  \n",
       "2562     0.0     0.0         0.0       0.0         0.0         1.0  \n",
       "\n",
       "[5 rows x 51 columns]"
      ]
     },
     "execution_count": 10,
     "metadata": {},
     "output_type": "execute_result"
    }
   ],
   "source": [
    "# OneHotEncoding on Train (fit & transform)\n",
    "# OneHotEncoding is to be done on Categorical variables.\n",
    "ohe = OneHotEncoder(handle_unknown='ignore',sparse=False)\n",
    "Xcat = pd.DataFrame(ohe.fit_transform(Xtrain[categoricalFeatures]),columns=ohe.get_feature_names(),index=Xtrain.index)\n",
    "Xtrain = pd.concat([Xtrain,Xcat],axis=1)\n",
    "Xtrain.drop(labels=categoricalFeatures,axis=1,inplace=True)\n",
    "Xtrain.sample(5)"
   ]
  },
  {
   "cell_type": "markdown",
   "id": "91235cb1",
   "metadata": {},
   "source": [
    "***ONE HOT ENCODING ON TEST DATASET***"
   ]
  },
  {
   "cell_type": "code",
   "execution_count": 11,
   "id": "f5ed445c",
   "metadata": {},
   "outputs": [
    {
     "data": {
      "text/html": [
       "<div>\n",
       "<style scoped>\n",
       "    .dataframe tbody tr th:only-of-type {\n",
       "        vertical-align: middle;\n",
       "    }\n",
       "\n",
       "    .dataframe tbody tr th {\n",
       "        vertical-align: top;\n",
       "    }\n",
       "\n",
       "    .dataframe thead th {\n",
       "        text-align: right;\n",
       "    }\n",
       "</style>\n",
       "<table border=\"1\" class=\"dataframe\">\n",
       "  <thead>\n",
       "    <tr style=\"text-align: right;\">\n",
       "      <th></th>\n",
       "      <th>age</th>\n",
       "      <th>balance</th>\n",
       "      <th>day</th>\n",
       "      <th>duration</th>\n",
       "      <th>campaign</th>\n",
       "      <th>pdays</th>\n",
       "      <th>previous</th>\n",
       "      <th>x0_admin.</th>\n",
       "      <th>x0_blue-collar</th>\n",
       "      <th>x0_entrepreneur</th>\n",
       "      <th>...</th>\n",
       "      <th>x7_jun</th>\n",
       "      <th>x7_mar</th>\n",
       "      <th>x7_may</th>\n",
       "      <th>x7_nov</th>\n",
       "      <th>x7_oct</th>\n",
       "      <th>x7_sep</th>\n",
       "      <th>x8_failure</th>\n",
       "      <th>x8_other</th>\n",
       "      <th>x8_success</th>\n",
       "      <th>x8_unknown</th>\n",
       "    </tr>\n",
       "  </thead>\n",
       "  <tbody>\n",
       "    <tr>\n",
       "      <th>43492</th>\n",
       "      <td>21</td>\n",
       "      <td>546</td>\n",
       "      <td>17</td>\n",
       "      <td>94</td>\n",
       "      <td>1</td>\n",
       "      <td>-1</td>\n",
       "      <td>0</td>\n",
       "      <td>0.0</td>\n",
       "      <td>0.0</td>\n",
       "      <td>0.0</td>\n",
       "      <td>...</td>\n",
       "      <td>0.0</td>\n",
       "      <td>0.0</td>\n",
       "      <td>0.0</td>\n",
       "      <td>0.0</td>\n",
       "      <td>0.0</td>\n",
       "      <td>0.0</td>\n",
       "      <td>0.0</td>\n",
       "      <td>0.0</td>\n",
       "      <td>0.0</td>\n",
       "      <td>1.0</td>\n",
       "    </tr>\n",
       "    <tr>\n",
       "      <th>9255</th>\n",
       "      <td>49</td>\n",
       "      <td>1677</td>\n",
       "      <td>5</td>\n",
       "      <td>19</td>\n",
       "      <td>3</td>\n",
       "      <td>-1</td>\n",
       "      <td>0</td>\n",
       "      <td>1.0</td>\n",
       "      <td>0.0</td>\n",
       "      <td>0.0</td>\n",
       "      <td>...</td>\n",
       "      <td>1.0</td>\n",
       "      <td>0.0</td>\n",
       "      <td>0.0</td>\n",
       "      <td>0.0</td>\n",
       "      <td>0.0</td>\n",
       "      <td>0.0</td>\n",
       "      <td>0.0</td>\n",
       "      <td>0.0</td>\n",
       "      <td>0.0</td>\n",
       "      <td>1.0</td>\n",
       "    </tr>\n",
       "    <tr>\n",
       "      <th>44566</th>\n",
       "      <td>34</td>\n",
       "      <td>-52</td>\n",
       "      <td>13</td>\n",
       "      <td>12</td>\n",
       "      <td>1</td>\n",
       "      <td>-1</td>\n",
       "      <td>0</td>\n",
       "      <td>0.0</td>\n",
       "      <td>0.0</td>\n",
       "      <td>0.0</td>\n",
       "      <td>...</td>\n",
       "      <td>0.0</td>\n",
       "      <td>0.0</td>\n",
       "      <td>0.0</td>\n",
       "      <td>0.0</td>\n",
       "      <td>0.0</td>\n",
       "      <td>0.0</td>\n",
       "      <td>0.0</td>\n",
       "      <td>0.0</td>\n",
       "      <td>0.0</td>\n",
       "      <td>1.0</td>\n",
       "    </tr>\n",
       "    <tr>\n",
       "      <th>36768</th>\n",
       "      <td>39</td>\n",
       "      <td>102</td>\n",
       "      <td>12</td>\n",
       "      <td>293</td>\n",
       "      <td>2</td>\n",
       "      <td>-1</td>\n",
       "      <td>0</td>\n",
       "      <td>1.0</td>\n",
       "      <td>0.0</td>\n",
       "      <td>0.0</td>\n",
       "      <td>...</td>\n",
       "      <td>0.0</td>\n",
       "      <td>0.0</td>\n",
       "      <td>1.0</td>\n",
       "      <td>0.0</td>\n",
       "      <td>0.0</td>\n",
       "      <td>0.0</td>\n",
       "      <td>0.0</td>\n",
       "      <td>0.0</td>\n",
       "      <td>0.0</td>\n",
       "      <td>1.0</td>\n",
       "    </tr>\n",
       "    <tr>\n",
       "      <th>23160</th>\n",
       "      <td>37</td>\n",
       "      <td>0</td>\n",
       "      <td>26</td>\n",
       "      <td>99</td>\n",
       "      <td>6</td>\n",
       "      <td>-1</td>\n",
       "      <td>0</td>\n",
       "      <td>0.0</td>\n",
       "      <td>0.0</td>\n",
       "      <td>0.0</td>\n",
       "      <td>...</td>\n",
       "      <td>0.0</td>\n",
       "      <td>0.0</td>\n",
       "      <td>0.0</td>\n",
       "      <td>0.0</td>\n",
       "      <td>0.0</td>\n",
       "      <td>0.0</td>\n",
       "      <td>0.0</td>\n",
       "      <td>0.0</td>\n",
       "      <td>0.0</td>\n",
       "      <td>1.0</td>\n",
       "    </tr>\n",
       "  </tbody>\n",
       "</table>\n",
       "<p>5 rows × 51 columns</p>\n",
       "</div>"
      ],
      "text/plain": [
       "       age  balance  day  duration  campaign  pdays  previous  x0_admin.  \\\n",
       "43492   21      546   17        94         1     -1         0        0.0   \n",
       "9255    49     1677    5        19         3     -1         0        1.0   \n",
       "44566   34      -52   13        12         1     -1         0        0.0   \n",
       "36768   39      102   12       293         2     -1         0        1.0   \n",
       "23160   37        0   26        99         6     -1         0        0.0   \n",
       "\n",
       "       x0_blue-collar  x0_entrepreneur  ...  x7_jun  x7_mar  x7_may  x7_nov  \\\n",
       "43492             0.0              0.0  ...     0.0     0.0     0.0     0.0   \n",
       "9255              0.0              0.0  ...     1.0     0.0     0.0     0.0   \n",
       "44566             0.0              0.0  ...     0.0     0.0     0.0     0.0   \n",
       "36768             0.0              0.0  ...     0.0     0.0     1.0     0.0   \n",
       "23160             0.0              0.0  ...     0.0     0.0     0.0     0.0   \n",
       "\n",
       "       x7_oct  x7_sep  x8_failure  x8_other  x8_success  x8_unknown  \n",
       "43492     0.0     0.0         0.0       0.0         0.0         1.0  \n",
       "9255      0.0     0.0         0.0       0.0         0.0         1.0  \n",
       "44566     0.0     0.0         0.0       0.0         0.0         1.0  \n",
       "36768     0.0     0.0         0.0       0.0         0.0         1.0  \n",
       "23160     0.0     0.0         0.0       0.0         0.0         1.0  \n",
       "\n",
       "[5 rows x 51 columns]"
      ]
     },
     "execution_count": 11,
     "metadata": {},
     "output_type": "execute_result"
    }
   ],
   "source": [
    "# OneHotEncoding on Test (only transform)\n",
    "# OneHotEncoding is to be done on Categorical variables.\n",
    "Xcat = pd.DataFrame(ohe.transform(Xtest[categoricalFeatures]),columns=ohe.get_feature_names(),index=Xtest.index)\n",
    "Xtest = pd.concat([Xtest,Xcat],axis=1)\n",
    "Xtest.drop(labels=categoricalFeatures,axis=1,inplace=True)\n",
    "Xtest.sample(5)"
   ]
  },
  {
   "cell_type": "markdown",
   "id": "eb64fb7e",
   "metadata": {},
   "source": [
    "***INITIALIZE DECISION TREE CLASSIFIER***"
   ]
  },
  {
   "cell_type": "code",
   "execution_count": 12,
   "id": "e1e9de54",
   "metadata": {},
   "outputs": [
    {
     "data": {
      "text/plain": [
       "DecisionTreeClassifier()"
      ]
     },
     "execution_count": 12,
     "metadata": {},
     "output_type": "execute_result"
    }
   ],
   "source": [
    "dt = DecisionTreeClassifier()\n",
    "dt.fit(Xtrain, Ytrain)"
   ]
  },
  {
   "cell_type": "code",
   "execution_count": 13,
   "id": "d69c3246",
   "metadata": {},
   "outputs": [
    {
     "name": "stdout",
     "output_type": "stream",
     "text": [
      "Train Accuracy: 1.0\n",
      "Test Accuracy: 0.8844750171418461\n",
      "Confusion Matrix for Decision Tree:\n",
      "[[37270  2652]\n",
      " [ 2571  2718]]\n",
      "Max Depth 26\n",
      "Leaf 382\n",
      "Printing the precision and recall, among other metrics\n",
      "              precision    recall  f1-score   support\n",
      "\n",
      "          no       0.94      0.93      0.93     39922\n",
      "         yes       0.51      0.51      0.51      5289\n",
      "\n",
      "    accuracy                           0.88     45211\n",
      "   macro avg       0.72      0.72      0.72     45211\n",
      "weighted avg       0.89      0.88      0.88     45211\n",
      "\n",
      "Accuracy of Model with Cross Validation is: 87.50341870323702\n"
     ]
    }
   ],
   "source": [
    "X_Pred = dt.predict(Xtest)\n",
    "XPred = dt.predict(Xtrain)\n",
    "#Model Accuracy\n",
    "print(\"Train Accuracy:\", metrics.accuracy_score(Ytrain,XPred))\n",
    "print(\"Test Accuracy:\", metrics.accuracy_score(Ytest,X_Pred))\n",
    "print(\"Confusion Matrix for Decision Tree:\")\n",
    "print(confusion_matrix(Ytest,X_Pred))\n",
    "print(\"Max Depth\",dt.get_depth())\n",
    "print(\"Leaf\",dt.get_n_leaves())\n",
    "print('Printing the precision and recall, among other metrics')\n",
    "print(metrics.classification_report(Ytest, X_Pred))\n",
    "clf_cv_score = cross_val_score(dt, Xtrain, Ytrain, cv=10, scoring=\"accuracy\")\n",
    "print(\"Accuracy of Model with Cross Validation is:\",clf_cv_score.mean() * 100)"
   ]
  },
  {
   "cell_type": "markdown",
   "id": "ad4ba4ae",
   "metadata": {},
   "source": [
    "***INITIALIZE RANDOM FOREST CLASSIFIER***"
   ]
  },
  {
   "cell_type": "code",
   "execution_count": 14,
   "id": "12cb8457",
   "metadata": {},
   "outputs": [
    {
     "data": {
      "text/plain": [
       "RandomForestClassifier()"
      ]
     },
     "execution_count": 14,
     "metadata": {},
     "output_type": "execute_result"
    }
   ],
   "source": [
    "rf = RandomForestClassifier()\n",
    "rf.fit(Xtrain, Ytrain)"
   ]
  },
  {
   "cell_type": "code",
   "execution_count": 15,
   "id": "a2da9225",
   "metadata": {},
   "outputs": [
    {
     "name": "stdout",
     "output_type": "stream",
     "text": [
      "Train Accuracy: 1.0\n",
      "Test Accuracy: 0.9115480745836191\n",
      "Confusion Matrix for Random Forest:\n",
      "[[39290   632]\n",
      " [ 3367  1922]]\n",
      "Printing the precision and recall, among other metrics\n",
      "              precision    recall  f1-score   support\n",
      "\n",
      "          no       0.92      0.98      0.95     39922\n",
      "         yes       0.75      0.36      0.49      5289\n",
      "\n",
      "    accuracy                           0.91     45211\n",
      "   macro avg       0.84      0.67      0.72     45211\n",
      "weighted avg       0.90      0.91      0.90     45211\n",
      "\n",
      "Accuracy of Model with Cross Validation is: 89.75873722870148\n"
     ]
    }
   ],
   "source": [
    "X_Pred1 = rf.predict(Xtest)\n",
    "XPred1 = rf.predict(Xtrain)\n",
    "#Model Accuracy\n",
    "print(\"Train Accuracy:\", metrics.accuracy_score(Ytrain,XPred1))\n",
    "print(\"Test Accuracy:\", metrics.accuracy_score(Ytest,X_Pred1))\n",
    "print(\"Confusion Matrix for Random Forest:\")\n",
    "print(confusion_matrix(Ytest,X_Pred1))\n",
    "print('Printing the precision and recall, among other metrics')\n",
    "print(metrics.classification_report(Ytest, X_Pred1))\n",
    "clf_cv_score = cross_val_score(rf, Xtrain, Ytrain, cv=10, scoring=\"accuracy\")\n",
    "print(\"Accuracy of Model with Cross Validation is:\",clf_cv_score.mean() * 100)"
   ]
  },
  {
   "cell_type": "markdown",
   "id": "629ade63",
   "metadata": {},
   "source": [
    "# ***Decision Tree: Random & Grid Search***"
   ]
  },
  {
   "cell_type": "markdown",
   "id": "3f567aa3",
   "metadata": {},
   "source": [
    "***Hyperparameter tuning done for decision tree classifier***"
   ]
  },
  {
   "cell_type": "markdown",
   "id": "c57f30da",
   "metadata": {},
   "source": [
    "***RANDOM SEARCH***"
   ]
  },
  {
   "cell_type": "code",
   "execution_count": 16,
   "id": "f362a3c6",
   "metadata": {},
   "outputs": [
    {
     "name": "stdout",
     "output_type": "stream",
     "text": [
      "Randomized Search CV for Decision tree\n",
      "{'min_samples_leaf': 50, 'max_depth': 29, 'criterion': 'gini'}\n",
      "accuracy Score for Decision Tree:0.895026\n",
      "--- 2.298304319381714 seconds ---\n"
     ]
    }
   ],
   "source": [
    "import time\n",
    "start_time = time.time()\n",
    "\n",
    "print(\"Randomized Search CV for Decision tree\")\n",
    "parameters={'min_samples_leaf' : range(10,300,10),'max_depth': \n",
    "            range(5,30,2),'criterion':['gini','entropy']}\n",
    "dt_random = RandomizedSearchCV(dt,parameters,n_iter=25,cv=5)\n",
    "dt_random.fit(Xtrain, Ytrain)\n",
    "grid_parm=dt_random.best_params_\n",
    "print(grid_parm)\n",
    "print(\"accuracy Score for Decision Tree:{0:6f}\".\n",
    "      format(dt_random.score(Xtest,Ytest)))\n",
    "\n",
    "print(\"--- %s seconds ---\" % (time.time() - start_time))"
   ]
  },
  {
   "cell_type": "markdown",
   "id": "7a098b49",
   "metadata": {},
   "source": [
    "***GRID SEARCH***"
   ]
  },
  {
   "cell_type": "code",
   "execution_count": 17,
   "id": "773f31df",
   "metadata": {},
   "outputs": [
    {
     "name": "stdout",
     "output_type": "stream",
     "text": [
      "Grid Search CV for Decision tree\n",
      "{'criterion': 'entropy', 'max_depth': 5, 'min_samples_leaf': 30}\n",
      "accuracy Score for Decision Tree:0.896220\n",
      "--- 62.67777705192566 seconds ---\n"
     ]
    }
   ],
   "source": [
    "import time\n",
    "start_time = time.time()\n",
    "\n",
    "print(\"Grid Search CV for Decision tree\")\n",
    "dt_grid = GridSearchCV(dt,parameters)\n",
    "dt_grid.fit(Xtrain, Ytrain)\n",
    "grid_parm1=dt_grid.best_params_\n",
    "print(grid_parm1)\n",
    "print(\"accuracy Score for Decision Tree:{0:6f}\".\n",
    "      format(dt_grid.score(Xtest,Ytest)))\n",
    "\n",
    "print(\"--- %s seconds ---\" % (time.time() - start_time))"
   ]
  },
  {
   "cell_type": "code",
   "execution_count": 18,
   "id": "d7369d95",
   "metadata": {},
   "outputs": [],
   "source": [
    "#Using the parameters obtained from HyperParameterTuning in the DecisionTreeClassifier \n",
    "dtRand = DecisionTreeClassifier(**grid_parm)\n",
    "dtGrid = DecisionTreeClassifier(**grid_parm1)\n",
    "\n",
    "dtRand.fit(Xtrain,Ytrain)\n",
    "dtRand_predict = dtRand.predict(Xtest)\n",
    "dtGrid.fit(Xtrain,Ytrain)\n",
    "dtGrid_predict = dtGrid.predict(Xtest)"
   ]
  },
  {
   "cell_type": "markdown",
   "id": "07abfa4b",
   "metadata": {},
   "source": [
    "***Accuracy for Decision Tree using Random Search CV for Hyperparameter Tuning***"
   ]
  },
  {
   "cell_type": "code",
   "execution_count": 19,
   "id": "6a0e563d",
   "metadata": {},
   "outputs": [
    {
     "name": "stdout",
     "output_type": "stream",
     "text": [
      "Test Accuracy: 0.895025546880184\n",
      "\n",
      "Confusion Matrix for Decision Tree:\n",
      "[[38578  1344]\n",
      " [ 3402  1887]]\n",
      "\n",
      "Printing the precision and recall, among other metrics\n",
      "              precision    recall  f1-score   support\n",
      "\n",
      "          no       0.92      0.97      0.94     39922\n",
      "         yes       0.58      0.36      0.44      5289\n",
      "\n",
      "    accuracy                           0.90     45211\n",
      "   macro avg       0.75      0.66      0.69     45211\n",
      "weighted avg       0.88      0.90      0.88     45211\n",
      "\n",
      "Accuracy of Model with Cross Validation is: 89.38292406571723\n"
     ]
    }
   ],
   "source": [
    "# Accuracy for Decision Tree using Random Search CV for Hyperparameter Tuning\n",
    "\n",
    "print(\"Test Accuracy:\", metrics.accuracy_score(Ytest,dtRand_predict))\n",
    "print()\n",
    "print(\"Confusion Matrix for Decision Tree:\")\n",
    "print(confusion_matrix(Ytest,dtRand_predict))\n",
    "print()\n",
    "print('Printing the precision and recall, among other metrics')\n",
    "print(metrics.classification_report(Ytest, dtRand_predict))\n",
    "clf_cv_score = cross_val_score(dtRand, Xtrain, Ytrain, cv=10, scoring=\"accuracy\")\n",
    "print(\"Accuracy of Model with Cross Validation is:\",clf_cv_score.mean() * 100)"
   ]
  },
  {
   "cell_type": "markdown",
   "id": "59dbcea9",
   "metadata": {},
   "source": [
    "***Accuracy for Decision Tree using Grid Search for Hyperparameter Tuning***"
   ]
  },
  {
   "cell_type": "code",
   "execution_count": 20,
   "id": "210f0d80",
   "metadata": {},
   "outputs": [
    {
     "name": "stdout",
     "output_type": "stream",
     "text": [
      "Test Accuracy: 0.8962199464732035\n",
      "\n",
      "Confusion Matrix for Decision Tree:\n",
      "[[38959   963]\n",
      " [ 3729  1560]]\n",
      "\n",
      "Printing the precision and recall, among other metrics\n",
      "              precision    recall  f1-score   support\n",
      "\n",
      "          no       0.91      0.98      0.94     39922\n",
      "         yes       0.62      0.29      0.40      5289\n",
      "\n",
      "    accuracy                           0.90     45211\n",
      "   macro avg       0.77      0.64      0.67     45211\n",
      "weighted avg       0.88      0.90      0.88     45211\n",
      "\n",
      "Accuracy of Model with Cross Validation is: 89.47151731817384\n"
     ]
    }
   ],
   "source": [
    "# Accuracy for Decision Tree using Grid Search for Hyperparameter Tuning\n",
    "\n",
    "print(\"Test Accuracy:\", metrics.accuracy_score(Ytest,dtGrid_predict))\n",
    "print()\n",
    "print(\"Confusion Matrix for Decision Tree:\")\n",
    "print(confusion_matrix(Ytest,dtGrid_predict))\n",
    "print()\n",
    "print('Printing the precision and recall, among other metrics')\n",
    "print(metrics.classification_report(Ytest, dtGrid_predict))\n",
    "clf_cv_score = cross_val_score(dtGrid, Xtrain, Ytrain, cv=10, scoring=\"accuracy\")\n",
    "print(\"Accuracy of Model with Cross Validation is:\",clf_cv_score.mean() * 100)"
   ]
  },
  {
   "cell_type": "markdown",
   "id": "d8d61bb8",
   "metadata": {},
   "source": [
    "# ***Random Forest: Random & Grid Search***"
   ]
  },
  {
   "cell_type": "markdown",
   "id": "193cef1b",
   "metadata": {},
   "source": [
    "***Hyperparameter tuning done for random forest classifier***"
   ]
  },
  {
   "cell_type": "markdown",
   "id": "a626eb67",
   "metadata": {},
   "source": [
    "***RANDOM SEARCH***"
   ]
  },
  {
   "cell_type": "code",
   "execution_count": 21,
   "id": "361c4a21",
   "metadata": {},
   "outputs": [
    {
     "name": "stdout",
     "output_type": "stream",
     "text": [
      "Randomized Search CV for Random Forest\n",
      "{'n_estimators': 30, 'min_samples_leaf': 50, 'max_features': 30, 'max_depth': 5}\n",
      "Accuracy Score for Random Forest:0.900378\n",
      "--- 10.703381299972534 seconds ---\n"
     ]
    }
   ],
   "source": [
    "import time\n",
    "start_time = time.time()\n",
    "\n",
    "print(\"Randomized Search CV for Random Forest\")\n",
    "rand_parameters={'min_samples_leaf' : range(10,100,10),'max_depth': \n",
    "            range(1,10,2),'max_features':[10,20,30],'n_estimators':[20,30,40]}\n",
    "rf_random = RandomizedSearchCV(rf,rand_parameters,n_iter=25,cv=5)\n",
    "rf_random.fit(Xtrain, Ytrain)\n",
    "grid_parm=rf_random.best_params_\n",
    "print(grid_parm)\n",
    "print(\"Accuracy Score for Random Forest:{0:6f}\".\n",
    "      format(rf_random.score(Xtest,Ytest)))\n",
    "\n",
    "print(\"--- %s seconds ---\" % (time.time() - start_time))"
   ]
  },
  {
   "cell_type": "markdown",
   "id": "ede28eaf",
   "metadata": {},
   "source": [
    "***GRID SEARCH***"
   ]
  },
  {
   "cell_type": "code",
   "execution_count": 22,
   "id": "30c7046e",
   "metadata": {},
   "outputs": [
    {
     "name": "stdout",
     "output_type": "stream",
     "text": [
      "Grid Search CV for Random Forest\n",
      "{'max_depth': 7, 'max_features': 20, 'min_samples_leaf': 40, 'n_estimators': 20}\n",
      "Accuracy Score for Random Forest:0.899073\n",
      "--- 177.80277228355408 seconds ---\n"
     ]
    }
   ],
   "source": [
    "import time\n",
    "start_time = time.time()\n",
    "\n",
    "print(\"Grid Search CV for Random Forest\")\n",
    "rf_grid = GridSearchCV(rf,rand_parameters)\n",
    "rf_grid.fit(Xtrain, Ytrain)\n",
    "grid_parm1=rf_grid.best_params_\n",
    "print(grid_parm1)\n",
    "print(\"Accuracy Score for Random Forest:{0:6f}\".\n",
    "      format(rf_grid.score(Xtest,Ytest)))\n",
    "\n",
    "print(\"--- %s seconds ---\" % (time.time() - start_time))"
   ]
  },
  {
   "cell_type": "code",
   "execution_count": 23,
   "id": "f49cc151",
   "metadata": {},
   "outputs": [],
   "source": [
    "#Using the parameters obtained from HyperParameterTuning in the RandomForestClassifier \n",
    "rfRand = RandomForestClassifier(**grid_parm)\n",
    "rfGrid = RandomForestClassifier(**grid_parm1)\n",
    "\n",
    "rfRand.fit(Xtrain,Ytrain)\n",
    "rfRand_predict = rfRand.predict(Xtest)\n",
    "rfGrid.fit(Xtrain,Ytrain)\n",
    "rfGrid_predict = rfGrid.predict(Xtest)"
   ]
  },
  {
   "cell_type": "markdown",
   "id": "66c8e793",
   "metadata": {},
   "source": [
    "***Accuracy for Random Forest using Random Search CV for Hyperparameter Tuning***"
   ]
  },
  {
   "cell_type": "code",
   "execution_count": 24,
   "id": "2a26ffc5",
   "metadata": {},
   "outputs": [
    {
     "name": "stdout",
     "output_type": "stream",
     "text": [
      "Test Accuracy: 0.9011744929331358\n",
      "Confusion Matrix for Random Forest:\n",
      "[[38952   970]\n",
      " [ 3498  1791]]\n",
      "Printing the precision and recall, among other metrics\n",
      "              precision    recall  f1-score   support\n",
      "\n",
      "          no       0.92      0.98      0.95     39922\n",
      "         yes       0.65      0.34      0.44      5289\n",
      "\n",
      "    accuracy                           0.90     45211\n",
      "   macro avg       0.78      0.66      0.70     45211\n",
      "weighted avg       0.89      0.90      0.89     45211\n",
      "\n",
      "Accuracy of Model with Cross Validation is: 89.91375100119166\n"
     ]
    }
   ],
   "source": [
    "# Accuracy for Random Forest using Random Search CV for Hyperparameter Tuning\n",
    "\n",
    "print(\"Test Accuracy:\", metrics.accuracy_score(Ytest,rfRand_predict))\n",
    "print(\"Confusion Matrix for Random Forest:\")\n",
    "print(confusion_matrix(Ytest,rfRand_predict))\n",
    "print('Printing the precision and recall, among other metrics')\n",
    "print(metrics.classification_report(Ytest, rfRand_predict))\n",
    "clf_cv_score = cross_val_score(rfRand, Xtrain, Ytrain, cv=10, scoring=\"accuracy\")\n",
    "print(\"Accuracy of Model with Cross Validation is:\",clf_cv_score.mean() * 100)"
   ]
  },
  {
   "cell_type": "markdown",
   "id": "6fd7ba36",
   "metadata": {},
   "source": [
    "***Accuracy for Random Forest using Grid Search for Hyperparameter Tuning***"
   ]
  },
  {
   "cell_type": "code",
   "execution_count": 25,
   "id": "629e5210",
   "metadata": {},
   "outputs": [
    {
     "name": "stdout",
     "output_type": "stream",
     "text": [
      "Test Accuracy: 0.9003339895158258\n",
      "Confusion Matrix for Random Forest:\n",
      "[[39229   693]\n",
      " [ 3813  1476]]\n",
      "Printing the precision and recall, among other metrics\n",
      "              precision    recall  f1-score   support\n",
      "\n",
      "          no       0.91      0.98      0.95     39922\n",
      "         yes       0.68      0.28      0.40      5289\n",
      "\n",
      "    accuracy                           0.90     45211\n",
      "   macro avg       0.80      0.63      0.67     45211\n",
      "weighted avg       0.88      0.90      0.88     45211\n",
      "\n",
      "Accuracy of Model with Cross Validation is: 90.04649436402352\n"
     ]
    }
   ],
   "source": [
    "# Accuracy for Random Forest using Grid Search for Hyperparameter Tuning\n",
    "\n",
    "print(\"Test Accuracy:\", metrics.accuracy_score(Ytest,rfGrid_predict))\n",
    "print(\"Confusion Matrix for Random Forest:\")\n",
    "print(confusion_matrix(Ytest,rfGrid_predict))\n",
    "print('Printing the precision and recall, among other metrics')\n",
    "print(metrics.classification_report(Ytest, rfGrid_predict))\n",
    "clf_cv_score = cross_val_score(rfGrid, Xtrain, Ytrain, cv=10, scoring=\"accuracy\")\n",
    "print(\"Accuracy of Model with Cross Validation is:\",clf_cv_score.mean() * 100)"
   ]
  },
  {
   "cell_type": "code",
   "execution_count": null,
   "id": "1e556854",
   "metadata": {},
   "outputs": [],
   "source": []
  }
 ],
 "metadata": {
  "kernelspec": {
   "display_name": "Python 3 (ipykernel)",
   "language": "python",
   "name": "python3"
  },
  "language_info": {
   "codemirror_mode": {
    "name": "ipython",
    "version": 3
   },
   "file_extension": ".py",
   "mimetype": "text/x-python",
   "name": "python",
   "nbconvert_exporter": "python",
   "pygments_lexer": "ipython3",
   "version": "3.9.12"
  }
 },
 "nbformat": 4,
 "nbformat_minor": 5
}
